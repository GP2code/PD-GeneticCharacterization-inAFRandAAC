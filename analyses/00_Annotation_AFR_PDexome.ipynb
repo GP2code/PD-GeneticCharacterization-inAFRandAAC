{
 "cells": [
  {
   "cell_type": "markdown",
   "id": "2d23fa2a",
   "metadata": {},
   "source": [
    "# Annotation and variant prioritization in whole genomes PDGENEration clinical exomes \n",
    "- **Project:** Large-scale Genetic Characterization of PD in the AFR and AAC\n",
    "- **Last updated:** December 2024\n",
    "- **Version:** Bash\n",
    "- **Data:** PD exomes from GP2 release 8\n",
    "\n",
    "## Summary\n",
    "Annotate the variants identified in GP2 WGS AFR cohort and PD GENEration clinical exomes"
   ]
  },
  {
   "cell_type": "code",
   "execution_count": 3,
   "id": "179e5a45-6cae-4a95-ad2a-812e6372df5a",
   "metadata": {},
   "outputs": [
    {
     "name": "stdout",
     "output_type": "stream",
     "text": [
      "[-] Unloading annovar 2020-06-08 on cn2325 \n",
      "[+] Loading annovar 2020-06-08 on cn2325 \n",
      "-rw-rw-r-- 1 hooverdm staff  96G Jun  1  2024 /fdb/annovar/current/hg38/hg38_gnomad41_genome.txt\n",
      "-rw-rw-r-- 1 hooverdm staff 105M Jun  2  2024 /fdb/annovar/current/hg38/hg38_gnomad41_genome.txt.idx\n"
     ]
    }
   ],
   "source": [
    "module load annovar\n",
    "ls -lh $ANNOVAR_DATA/hg38/hg38_gnomad41*genome*"
   ]
  },
  {
   "cell_type": "code",
   "execution_count": 7,
   "id": "722e0838-0586-4995-855c-3c4ff40b2c9a",
   "metadata": {},
   "outputs": [
    {
     "name": "stdout",
     "output_type": "stream",
     "text": [
      "#!/bin/sh\n",
      "module load annovar\n",
      "table_annovar.pl {WORK_DIR}/AFR_allvariants.vcf $ANNOVAR_DATA/hg38 --buildver hg38 -out {WORK_DIR}/AFR_allvariants_annot -remove -protocol gene,clinvar_20240611,dbnsfp47a,ljb26_all,avsnp151,gnomad41_genome,gnomad41_exome --operation g,f,f,f,f,f,f  -nastring . -vcfinput\n",
      "#!/bin/sh\n",
      "module load annovar\n",
      "table_annovar.pl {WORK_DIR}/AAC_allvariants.vcf $ANNOVAR_DATA/hg38 --buildver hg38 -out {WORK_DIR}/AAC_allvariants_annot -remove -protocol gene,clinvar_20240611,dbnsfp47a,ljb26_all,avsnp151,gnomad41_genome,gnomad41_exome --operation g,f,f,f,f,f,f  -nastring . -vcfinput\n"
     ]
    }
   ],
   "source": [
    "cat table_annovar_afr.sh\n",
    "cat table_annovar_aac.sh"
   ]
  },
  {
   "cell_type": "code",
   "execution_count": null,
   "id": "efec8686-58cf-4c0f-b862-cc62769bdc4c",
   "metadata": {},
   "outputs": [],
   "source": [
    "#sbatch --cpus-per-task=8 --mem=100g --mail-type=END --time=23:40:00 table_annovar_afr.sh\n",
    "#sbatch --cpus-per-task=8 --mem=100g --mail-type=END --time=23:40:00 table_annovar_aac.sh"
   ]
  },
  {
   "cell_type": "code",
   "execution_count": null,
   "id": "a1c930cf-6520-4c67-94db-5d270d325196",
   "metadata": {},
   "outputs": [],
   "source": [
    "grep exon {WORK_DIR}/AFR_allvariants_annot.hg38_multianno.vcf | egrep -v \"refGene=synon|gnomad41_genome_AF_afr=0\\.(9|8|7|6|4|3|2|1[0-9]|0[5-9])\" > {WORK_DIR}/AFR_exonic_synexc_0.01maf\n",
    "grep exon {WORK_DIR}/AAC_allvariants_annot.hg38_multianno.vcf | egrep -v \"refGene=synon|gnomad41_genome_AF_afr=0\\.(9|8|7|6|4|3|2|1[0-9]|0[5-9])\" > {WORK_DIR}/AAC_exonic_synexc_0.01maf"
   ]
  },
  {
   "cell_type": "code",
   "execution_count": null,
   "id": "638408c9-3fb0-462e-9ab9-cde6b99e7331",
   "metadata": {},
   "outputs": [],
   "source": [
    "#PD GENERATION variant prioritization"
   ]
  },
  {
   "cell_type": "code",
   "execution_count": null,
   "id": "a8045d98-d26e-4d88-abd5-9c452b816dd3",
   "metadata": {},
   "outputs": [],
   "source": [
    "grep exon {WORK_DIR}/pdgene_annot.hg38_multianno.vcf \\\n",
    "| grep -v -E \"refGene=synon|refGene=ncRNA_exonic|intron|downstream|upstream|intergenic|5_prime_UTR_variant|3_prime_UTR_variant\" \\\n",
    "| grep /1 | grep -v -E \"gnomad41_genome_AF_afr=0\\.(9|8|7|6|5|4|3|2|1[0-9]?|01)\" | cut -f1-8 > {WORK_DIR}/pdgene_0.01_paltering"
   ]
  }
 ],
 "metadata": {
  "kernelspec": {
   "display_name": "Bash",
   "language": "bash",
   "name": "bash"
  },
  "language_info": {
   "codemirror_mode": "shell",
   "file_extension": ".sh",
   "mimetype": "text/x-sh",
   "name": "bash"
  }
 },
 "nbformat": 4,
 "nbformat_minor": 5
}
