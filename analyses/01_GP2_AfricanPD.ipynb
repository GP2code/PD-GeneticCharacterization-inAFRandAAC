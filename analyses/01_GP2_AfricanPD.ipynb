{
 "cells": [
  {
   "cell_type": "markdown",
   "metadata": {},
   "source": [
    "# GP2: Carrier Counts for GBA1\n",
    "- **Project:** Large-scale Genetic Characterization of PD in the AFR and AAC\n",
    "- **Last updated:** December 2024\n",
    "- **Version:** Bash and Python 3.9\n",
    "- **Data:** GP2 release 8\n",
    "\n",
    "## Summary\n",
    "Software used are Plink v.1.9 and Plink2"
   ]
  },
  {
   "cell_type": "markdown",
   "metadata": {
    "raw_mimetype": "text/markdown"
   },
   "source": [
    "# **Analysis of PD genes in GP2 cases and controls of African and African admixed ancestries**\n"
   ]
  },
  {
   "cell_type": "markdown",
   "metadata": {},
   "source": [
    "Obtain related samples among African and admixed ancestry individuals from available kinship scores in GP2"
   ]
  },
  {
   "cell_type": "code",
   "execution_count": 11,
   "metadata": {},
   "outputs": [
    {
     "name": "stdout",
     "output_type": "stream",
     "text": [
      "gs://gp2tier2/release8_13092024/wgs/deepvariant_joint_calling/related_samples/release8_AFR.related\n",
      "gs://gp2tier2/release8_13092024/wgs/deepvariant_joint_calling/related_samples/release8_AJ.related\n",
      "gs://gp2tier2/release8_13092024/wgs/deepvariant_joint_calling/related_samples/release8_AMR.related\n",
      "gs://gp2tier2/release8_13092024/wgs/deepvariant_joint_calling/related_samples/release8_CAH.related\n",
      "gs://gp2tier2/release7_30042024/meta_data/related_samples/AAC_release7.related\n",
      "gs://gp2tier2/release7_30042024/meta_data/related_samples/AFR_release7.related\n"
     ]
    }
   ],
   "source": [
    "!gsutil -u cardterra -m ls gs://gp2tier2/release8*/wgs/deepvariant_joint_calling/related_samples/ | head -4\n",
    "!gsutil -u cardterra -m ls gs://gp2tier2/release7*/meta_data/related_samples/ | head -2"
   ]
  },
  {
   "cell_type": "code",
   "execution_count": null,
   "metadata": {},
   "outputs": [],
   "source": [
    "!gsutil -u cardterra -m cp gs://gp2tier2/release8*/wgs/deepvariant_joint_calling/related_samples/*AFR.related .\n",
    "!gsutil -u cardterra -m cp gs://gp2tier2/release8*/wgs/deepvariant_joint_calling/related_samples/*CAH.related .\n",
    "!gsutil -u cardterra -m cp gs://gp2tier2/release7_30042024/meta_data/related_samples/A*_release7.related ."
   ]
  },
  {
   "cell_type": "markdown",
   "metadata": {},
   "source": [
    "Extract African and admixed ancestry PD cases and controls with WGS data in release 8. Include the variants \\\n",
    "that are present at least 1 individual and recode the files as VCFs."
   ]
  },
  {
   "cell_type": "code",
   "execution_count": null,
   "metadata": {},
   "outputs": [],
   "source": [
    "!for i in {1..22} X Y; do ./plink2 --pfile chr\"$i\"_AFR_release8 --recode vcf --mac 1 --keep-fam afr_case_cohort \\\n",
    "--out chr\"$i\"_AFR_release8_converted --threads 10 ; done\n",
    "!for i in {1..22} X Y; do ./plink2 --pfile chr\"$i\"_AAC_release8 --recode vcf --mac 1 --keep-fam afr_case_cohort \\\n",
    "--out chr\"$i\"_AAC_release8_converted --threads 10 ; done"
   ]
  },
  {
   "cell_type": "markdown",
   "metadata": {},
   "source": [
    "Prepare VCF files to be extracted for annoation by selecting the required columns only."
   ]
  },
  {
   "cell_type": "code",
   "execution_count": null,
   "metadata": {},
   "outputs": [],
   "source": [
    "!grep chr chr*_AAC_release8_binary_mac1.vcf | cut -f1-10 > AAC_allvariants\n",
    "!grep chr chr*_AFR_release8_binary_mac1.vcf | cut -f1-10 > AFR_allvariants"
   ]
  },
  {
   "cell_type": "code",
   "execution_count": 4,
   "metadata": {},
   "outputs": [
    {
     "name": "stdout",
     "output_type": "stream",
     "text": [
      "19616374 AAC_allvariants\n",
      "30421306 AFR_allvariants\n"
     ]
    }
   ],
   "source": [
    "!wc -l AAC_allvariants\n",
    "!wc -l AFR_allvariants"
   ]
  },
  {
   "cell_type": "code",
   "execution_count": null,
   "metadata": {},
   "outputs": [],
   "source": [
    "!head -7 chr10_AFR_release8_binary_mac1.vcf | cut -f1-10 > vcf_header\n",
    "!cat vcf_header AAC_allvariants > AAC_allvariants.vcf\n",
    "!cat vcf_header AFR_allvariants > AFR_allvariants.vcf"
   ]
  },
  {
   "cell_type": "markdown",
   "metadata": {},
   "source": [
    "Extract African and admixed ancestry PD cases from the PDGENE clinical exome dataset"
   ]
  },
  {
   "cell_type": "code",
   "execution_count": null,
   "metadata": {},
   "outputs": [],
   "source": [
    "!./plink2 --pfile all_chrs --mac 1 --recode vcf --out all_chrs_pdgene_afr_black --keep-fam pdgene_afr --threads 10"
   ]
  },
  {
   "cell_type": "markdown",
   "metadata": {},
   "source": [
    "Obtain rare-protein altering variants"
   ]
  },
  {
   "cell_type": "code",
   "execution_count": 6,
   "metadata": {},
   "outputs": [
    {
     "name": "stdout",
     "output_type": "stream",
     "text": [
      "149109\r\n"
     ]
    }
   ],
   "source": [
    "!grep protein_coding all_chrs_pdgene_afr_black.vcf \\\n",
    "| egrep -v \"AF=0.(9|8|7|6|5|4|3|2)|non_coding_transcript_exon_variant|synonymous_variant|upstream|downstream|intron|5_prime_UTR_variant|3_prime_UTR_variant|splice_region_variant&synonymous_variant\" \\\n",
    "| grep /1 > all_chrs_pdgene_afr_filtered.vcf\n",
    "!wc -l all_chrs_pdgene_afr_filtered.vcf"
   ]
  },
  {
   "cell_type": "markdown",
   "metadata": {},
   "source": [
    "# Obtain the demographics for the individuals included in this study"
   ]
  },
  {
   "cell_type": "code",
   "execution_count": 17,
   "metadata": {},
   "outputs": [
    {
     "name": "stdout",
     "output_type": "stream",
     "text": [
      "Copying gs://gp2tier2/release8_13092024/clinical_data/master_key_release8_final_terra.csv...\n",
      "/ [1/1 files][  8.0 MiB/  8.0 MiB] 100% Done                                    \n",
      "Operation completed over 1 objects/8.0 MiB.                                      \n",
      "Copying gs://gp2tier2/release7_30042024/clinical_data/extended_clinical_data_release7.csv...\n",
      "- [1/1 files][ 24.3 MiB/ 24.3 MiB] 100% Done                                    \n",
      "Operation completed over 1 objects/24.3 MiB.                                     \n"
     ]
    }
   ],
   "source": [
    "!gsutil -u cardterra -m cp gs://gp2tier2/release8_13092024/clinical_data/master_key_release8_final_terra.csv .\n",
    "!gsutil -u cardterra -m cp gs://gp2tier2/release7*/clinical_data/extended_clinical_data_release7.csv ."
   ]
  },
  {
   "cell_type": "markdown",
   "metadata": {},
   "source": [
    "# Analysis of the intronic rs3115534-G variant in African and admixed individuals genotyped by the NeuroBooster array"
   ]
  },
  {
   "cell_type": "code",
   "execution_count": 119,
   "metadata": {},
   "outputs": [
    {
     "name": "stdout",
     "output_type": "stream",
     "text": [
      "Copying gs://gp2tier2/release7_30042024/imputed_genotypes/AAC/chr1_AAC_release7.pvar...\n",
      "- [1/1 files][418.0 MiB/418.0 MiB] 100% Done                                    \n",
      "Operation completed over 1 objects/418.0 MiB.                                    \n"
     ]
    }
   ],
   "source": [
    "!gsutil -u cardterra -m cp gs://gp2tier2/release7*/imputed_genotypes/AAC/chr1_AAC_release7.pvar .\n",
    "!gsutil -u cardterra -m cp gs://gp2tier2/release7*/imputed_genotypes/AFR/chr1_AFR_release7.pvar ."
   ]
  },
  {
   "cell_type": "code",
   "execution_count": null,
   "metadata": {},
   "outputs": [],
   "source": [
    "!./plink2 --bfile AFR_release7.fam --snp chr1_155235878_G_T --recode ped --out chr1_155235878_G_T_afr\n",
    "!./plink2 --bfile AAC_release7.fam --snp chr1_155235878_G_T --recode ped --out chr1_155235878_G_T_aac"
   ]
  },
  {
   "cell_type": "code",
   "execution_count": null,
   "metadata": {},
   "outputs": [],
   "source": [
    "./plink --bfile chr1_155235878_G_T_afr --freq case-control --pheno pheno.txt --out chr1_155235878_G_T_afr_freq\n",
    "./plink --bfile chr1_155235878_G_T_aac --freq case-control --pheno pheno.txt --out chr1_155235878_G_T_aac_freq"
   ]
  },
  {
   "cell_type": "code",
   "execution_count": null,
   "metadata": {},
   "outputs": [],
   "source": [
    "!./plink --file chr1_155235878_G_T_afr --assoc --pheno "
   ]
  },
  {
   "cell_type": "markdown",
   "metadata": {},
   "source": [
    "Number of heterozygous and homozygous carriers can be obtained from the ped files"
   ]
  },
  {
   "cell_type": "code",
   "execution_count": 23,
   "metadata": {},
   "outputs": [],
   "source": [
    "#!cat chr1_155235878_G_T_aac.ped\n",
    "#!cat chr1_155235878_G_T_afr.ped"
   ]
  }
 ],
 "metadata": {
  "celltoolbar": "Raw Cell Format",
  "kernelspec": {
   "display_name": "Python [conda env:base] *",
   "language": "python",
   "name": "conda-base-py"
  },
  "language_info": {
   "codemirror_mode": {
    "name": "ipython",
    "version": 3
   },
   "file_extension": ".py",
   "mimetype": "text/x-python",
   "name": "python",
   "nbconvert_exporter": "python",
   "pygments_lexer": "ipython3",
   "version": "3.10.14"
  },
  "toc": {
   "base_numbering": 1,
   "nav_menu": {},
   "number_sections": true,
   "sideBar": true,
   "skip_h1_title": false,
   "title_cell": "Table of Contents",
   "title_sidebar": "Contents",
   "toc_cell": false,
   "toc_position": {},
   "toc_section_display": true,
   "toc_window_display": true
  }
 },
 "nbformat": 4,
 "nbformat_minor": 2
}
