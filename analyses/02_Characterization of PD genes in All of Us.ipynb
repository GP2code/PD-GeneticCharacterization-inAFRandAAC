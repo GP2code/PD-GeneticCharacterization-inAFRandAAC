{
 "cells": [
  {
   "cell_type": "markdown",
   "id": "a7ca6fd4",
   "metadata": {},
   "source": [
    "# AllOfUs: Carrier Counts for GBA1\n",
    "- **Project:** Large-scale Genetic Characterization of PD in the AFR and AAC\n",
    "- **Last updated:** December 2024\n",
    "- **Version:** Bash and Python 3.9\n",
    "- **Data:** AllofUs\n",
    "\n",
    "## Summary\n",
    "Get the sample IDs of individuals with PD from condition files"
   ]
  },
  {
   "cell_type": "code",
   "execution_count": 1,
   "id": "76777452",
   "metadata": {},
   "outputs": [
    {
     "name": "stdout",
     "output_type": "stream",
     "text": [
      "person_id,condition_concept_id,standard_concept_name,standard_concept_code,standard_vocabulary,condition_start_datetime,condition_end_datetime,condition_type_concept_id,condition_type_concept_name,stop_reason,visit_occurrence_id,visit_occurrence_concept_name,condition_source_value,condition_source_concept_id,source_concept_name,source_concept_code,source_vocabulary,condition_status_source_value,condition_status_concept_id,condition_status_concept_name\n",
      "1422\n"
     ]
    }
   ],
   "source": [
    "!head -1 pd_condition_df.csv\n",
    "!grep \"Parkinson's disease\" pd_condition_df.csv | cut -f1 -d \",\"| sort -u | uniq | wc -l\n",
    "!grep \"Parkinson's disease\" pd_condition_df.csv | cut -f1 -d \",\"| sort -u | uniq > all_PD_cases1422"
   ]
  },
  {
   "cell_type": "markdown",
   "id": "2796609c",
   "metadata": {},
   "source": [
    "# Obtain the genetically predicted ancestry for PD cases"
   ]
  },
  {
   "cell_type": "code",
   "execution_count": 2,
   "id": "b4ea2116",
   "metadata": {},
   "outputs": [
    {
     "name": "stdout",
     "output_type": "stream",
     "text": [
      "Copying gs://fc-aou-datasets-controlled/v7/wgs/short_read/snpindel/aux/ancestry/ancestry_preds.tsv...\n",
      "\\ [1/1 files][ 96.7 MiB/ 96.7 MiB] 100% Done                                    \n",
      "Operation completed over 1 objects/96.7 MiB.                                     \n"
     ]
    }
   ],
   "source": [
    "!gsutil -u $GOOGLE_PROJECT -m cp gs://fc-aou-datasets-controlled/v7/wgs/short_read/snpindel/aux/ancestry/ancestry_preds.tsv ."
   ]
  },
  {
   "cell_type": "code",
   "execution_count": 3,
   "id": "cea03e98",
   "metadata": {},
   "outputs": [],
   "source": [
    "!for i in `cat all_PD_cases1422` ; do grep -w $i ancestry_preds.tsv >> pd_ancestry ; done"
   ]
  },
  {
   "cell_type": "code",
   "execution_count": 4,
   "id": "fcb3a5d0",
   "metadata": {},
   "outputs": [
    {
     "name": "stdout",
     "output_type": "stream",
     "text": [
      "93\r\n"
     ]
    }
   ],
   "source": [
    "!cut -f1,2 pd_ancestry | grep afr | wc -l\n",
    "!cut -f1,2 pd_ancestry | grep afr | cut -f1 > pd_african_caseIDs"
   ]
  },
  {
   "cell_type": "markdown",
   "id": "0f022b85",
   "metadata": {},
   "source": [
    "# Download exonic vcf files"
   ]
  },
  {
   "cell_type": "code",
   "execution_count": null,
   "id": "a8a97f48",
   "metadata": {},
   "outputs": [],
   "source": [
    "!for i in {1..22} X ; do gsutil -u $GOOGLE_PROJECT -m \\\n",
    "!cp gs://fc-aou-datasets-controlled/v7/wgs/short_read/snpindel/exome_v7.1/vcf/exome.chr\"$i\".vcf.bgz* . ; done"
   ]
  },
  {
   "cell_type": "markdown",
   "id": "734b7c82",
   "metadata": {},
   "source": [
    "# Extract PD cases and controls and split multiallelic variants into multiple rows"
   ]
  },
  {
   "cell_type": "code",
   "execution_count": null,
   "id": "2bb38921",
   "metadata": {},
   "outputs": [],
   "source": [
    "#cases\n",
    "!for i in {1..22} X ; do bcftools view -S pd_african_caseIDs exome.chr\"$i\".vcf.bgz --force-samples \\\n",
    "!bcftools norm -m -any --threads 6 > exome.chr\"$i\"_african_split.vcf ; done\n",
    "#controls\n",
    "!for i in {1..22} X ; do bcftools view -S pd_african_controlIDs exome.chr\"$i\".vcf.bgz --force-samples \\\n",
    "!bcftools norm -m -any --threads 6 > exome.chr\"$i\"_african_controls_split.vcf ; done"
   ]
  },
  {
   "cell_type": "markdown",
   "id": "a3adba38",
   "metadata": {},
   "source": [
    "# Extract variants present at least in ince case, and not frequent than 0.01 in the general AoU cohort."
   ]
  },
  {
   "cell_type": "code",
   "execution_count": null,
   "id": "8ef8c9a9",
   "metadata": {},
   "outputs": [],
   "source": [
    "!for i in {1..22} X ; do grep -v contig exome.chr\"$i\"_african.vcf_splited.vcf | grep PASS |\\\n",
    "!cut -f1-10 | grep chr\"$i\" | \\\n",
    "!grep -v \"AC=0;\" | egrep -v \"AF=0.(9|8|7|6|5|4|3|2|1|09|08|07|06|05|04|02|01)\" >> all_africanpdvariants ; done"
   ]
  },
  {
   "cell_type": "markdown",
   "id": "1b7f58b0",
   "metadata": {},
   "source": [
    "# Analysis of the intronic rs3115534-G variant in cases and controls"
   ]
  },
  {
   "cell_type": "code",
   "execution_count": null,
   "id": "9e0f1b9c",
   "metadata": {},
   "outputs": [],
   "source": [
    "mt_wgs_path = os.getenv(\"WGS_ACAF_MULTI_HAIL_PATH\")\n",
    "mt_wgs_path\n",
    "mt_wgs_path = \"gs://fc-aou-datasets-controlled/v7/wgs/short_read/snpindel/acaf_threshold/multiMT/hail.mt\"\n",
    "mt = hl.read_matrix_table(mt_wgs_path)\n",
    "test_intervals = ['chr1:155134452-155334452']\n",
    "mt = hl.filter_intervals(\n",
    "    mt,\n",
    "    [hl.parse_locus_interval(x,)\n",
    "     for x in test_intervals])\n",
    "mt.count()\n",
    "mt.locus.summarize()\n",
    "mt = mt.filter_rows(mt.variant_qc.call_rate > 0.80, keep = True)\n",
    "out_vcf = f'{bucket}/data/gba.vcf.bgz'\n",
    "out_vcf\n",
    "hl.export_vcf(mt, out_vcf, tabix=False)\n",
    "!gunzip -c gba.vcf.bgz > gba.vcf"
   ]
  },
  {
   "cell_type": "code",
   "execution_count": null,
   "id": "d4fc4278",
   "metadata": {},
   "outputs": [],
   "source": [
    "!./plink --vcf gba.vcf --chr 1 --from-bp 155235877 --to-bp 155235879 \\\n",
    "!--freq case-control --pheno pheno.txt --out chr1_155235878_G_T_afr_freq"
   ]
  },
  {
   "cell_type": "code",
   "execution_count": null,
   "id": "fcac5fd2",
   "metadata": {},
   "outputs": [],
   "source": []
  }
 ],
 "metadata": {
  "kernelspec": {
   "display_name": "Python 3",
   "language": "python",
   "name": "python3"
  },
  "language_info": {
   "codemirror_mode": {
    "name": "ipython",
    "version": 3
   },
   "file_extension": ".py",
   "mimetype": "text/x-python",
   "name": "python",
   "nbconvert_exporter": "python",
   "pygments_lexer": "ipython3",
   "version": "3.10.12"
  },
  "toc": {
   "base_numbering": 1,
   "nav_menu": {},
   "number_sections": true,
   "sideBar": true,
   "skip_h1_title": false,
   "title_cell": "Table of Contents",
   "title_sidebar": "Contents",
   "toc_cell": false,
   "toc_position": {},
   "toc_section_display": true,
   "toc_window_display": false
  }
 },
 "nbformat": 4,
 "nbformat_minor": 5
}
